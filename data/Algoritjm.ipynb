{
 "cells": [
  {
   "cell_type": "code",
   "execution_count": 28,
   "metadata": {},
   "outputs": [],
   "source": [
    "import numpy as np\n",
    "import pandas as pd\n",
    "import glob"
   ]
  },
  {
   "cell_type": "code",
   "execution_count": 29,
   "metadata": {},
   "outputs": [
    {
     "name": "stdout",
     "output_type": "stream",
     "text": [
      "input\\referee_1.csv\n",
      "  Referee  Team  Mon  Tue  Wed  Thr  Fri\n",
      "0     Amy     2    1    1    1    0    0\n",
      "input\\referee_2.csv\n",
      "  Referee  Team  Mon  Tue  Wed  Thr  Fri\n",
      "0  Angela     5    0    1    1    1    0\n",
      "input\\referee_3.csv\n",
      "  Referee  Team  Mon  Tue  Wed  Thr  Fri\n",
      "0    Tina     8    1    1    1    1    1\n",
      "input\\referee_4.csv\n",
      "   Referee  Team  Mon  Tue  Wed  Thr  Fri\n",
      "0  Jessica    26    0    0    0    1    1\n",
      "input\\referee_5.csv\n",
      "     Referee  Team  Mon  Tue  Wed  Thr  Fri\n",
      "0  Katherine    31    0    1    0    1    1\n",
      "input\\referee_6.csv\n",
      "  Referee  Team  Mon  Tue  Wed  Thr  Fri\n",
      "0  Joanne    38    1    1    1    1    1\n",
      "input\\referee_7.csv\n",
      "  Referee  Team  Mon  Tue  Wed  Thr  Fri\n",
      "0  Weibig    28    0    0    1    1    1\n",
      "input\\referee_8.csv\n",
      "   Referee  Team  Mon  Tue  Wed  Thr  Fri\n",
      "0  Tiffany    18    1    1    1    0    1\n",
      "input\\referee_9.csv\n",
      "  Referee  Team  Mon  Tue  Wed  Thr  Fri\n",
      "0   Catie    12    1    1    0    0    1\n",
      "input\\Team_1.csv\n",
      "   Team  Mon  Tue  Wed  Thr  Fri\n",
      "0     1    0    0    1    0    1\n",
      "input\\Team_10.csv\n",
      "   Team  Mon  Tue  Wed  Thr  Fri\n",
      "0    10    0    1    0    1    1\n",
      "input\\Team_11.csv\n",
      "   Team  Mon  Tue  Wed  Thr  Fri\n",
      "0    11    0    0    0    1    1\n",
      "input\\Team_12.csv\n",
      "   Team  Mon  Tue  Wed  Thr  Fri\n",
      "0    12    1    1    0    0    1\n",
      "input\\Team_13.csv\n",
      "   Team  Mon  Tue  Wed  Thr  Fri\n",
      "0    13    1    1    0    1    0\n",
      "input\\Team_14.csv\n",
      "   Team  Mon  Tue  Wed  Thr  Fri\n",
      "0    14    0    1    1    1    0\n",
      "input\\Team_15.csv\n",
      "   Team  Mon  Tue  Wed  Thr  Fri\n",
      "0    15    0    1    0    1    1\n",
      "input\\Team_16.csv\n",
      "   Team  Mon  Tue  Wed  Thr  Fri\n",
      "0    16    0    1    1    1    0\n",
      "input\\Team_17.csv\n",
      "   Team  Mon  Tue  Wed  Thr  Fri\n",
      "0    17    1    1    0    0    1\n",
      "input\\Team_18.csv\n",
      "   Team  Mon  Tue  Wed  Thr  Fri\n",
      "0    18    1    0    0    1    1\n",
      "input\\Team_19.csv\n",
      "   Team  Mon  Tue  Wed  Thr  Fri\n",
      "0    19    1    1    0    0    1\n",
      "input\\Team_2.csv\n",
      "   Team  Mon  Tue  Wed  Thr  Fri\n",
      "0     2    1    1    0    0    1\n",
      "input\\Team_20.csv\n",
      "   Team  Mon  Tue  Wed  Thr  Fri\n",
      "0    20    1    1    0    0    0\n",
      "input\\Team_21.csv\n",
      "   Team  Mon  Tue  Wed  Thr  Fri\n",
      "0    21    0    1    0    0    1\n",
      "input\\Team_22.csv\n",
      "   Team  Mon  Tue  Wed  Thr  Fri\n",
      "0    22    1    1    0    0    1\n",
      "input\\Team_23.csv\n",
      "   Team  Mon  Tue  Wed  Thr  Fri\n",
      "0    23    1    1    0    0    1\n",
      "input\\Team_24.csv\n",
      "   Team  Mon  Tue  Wed  Thr  Fri\n",
      "0    24    0    1    1    0    1\n",
      "input\\Team_25.csv\n",
      "   Team  Mon  Tue  Wed  Thr  Fri\n",
      "0    25    1    1    0    0    1\n",
      "input\\Team_26.csv\n",
      "   Team  Mon  Tue  Wed  Thr  Fri\n",
      "0    26    1    1    0    1    0\n",
      "input\\Team_27.csv\n",
      "   Team  Mon  Tue  Wed  Thr  Fri\n",
      "0    27    1    0    0    1    1\n",
      "input\\Team_28.csv\n",
      "   Team  Mon  Tue  Wed  Thr  Fri\n",
      "0    28    1    0    0    1    1\n",
      "input\\Team_29.csv\n",
      "   Team  Mon  Tue  Wed  Thr  Fri\n",
      "0    29    1    0    1    1    0\n",
      "input\\Team_3.csv\n",
      "   Team  Mon  Tue  Wed  Thr  Fri\n",
      "0     3    0    1    0    1    1\n",
      "input\\Team_30.csv\n",
      "   Team  Mon  Tue  Wed  Thr  Fri\n",
      "0    30    1    1    1    0    0\n",
      "input\\Team_31.csv\n",
      "   Team  Mon  Tue  Wed  Thr  Fri\n",
      "0    31    1    1    0    0    1\n",
      "input\\Team_32.csv\n",
      "   Team  Mon  Tue  Wed  Thr  Fri\n",
      "0    32    0    1    0    1    1\n",
      "input\\Team_33.csv\n",
      "   Team  Mon  Tue  Wed  Thr  Fri\n",
      "0    33    0    0    1    1    1\n",
      "input\\Team_34.csv\n",
      "   Team  Mon  Tue  Wed  Thr  Fri\n",
      "0    34    1    0    0    1    1\n",
      "input\\Team_35.csv\n",
      "   Team  Mon  Tue  Wed  Thr  Fri\n",
      "0    35    0    1    1    1    0\n",
      "input\\Team_36.csv\n",
      "   Team  Mon  Tue  Wed  Thr  Fri\n",
      "0    36    0    1    0    1    1\n",
      "input\\Team_37.csv\n",
      "   Team  Mon  Tue  Wed  Thr  Fri\n",
      "0    37    0    0    1    1    1\n",
      "input\\Team_38.csv\n",
      "   Team  Mon  Tue  Wed  Thr  Fri\n",
      "0    38    1    0    1    1    0\n",
      "input\\Team_39.csv\n",
      "   Team  Mon  Tue  Wed  Thr  Fri\n",
      "0    39    0    0    1    1    1\n",
      "input\\Team_4.csv\n",
      "   Team  Mon  Tue  Wed  Thr  Fri\n",
      "0     4    1    1    0    1    0\n",
      "input\\Team_40.csv\n",
      "   Team  Mon  Tue  Wed  Thr  Fri\n",
      "0    40    1    0    1    0    1\n",
      "input\\Team_5.csv\n",
      "   Team  Mon  Tue  Wed  Thr  Fri\n",
      "0     5    0    1    1    0    0\n",
      "input\\Team_6.csv\n",
      "   Team  Mon  Tue  Wed  Thr  Fri\n",
      "0     6    1    1    0    1    0\n",
      "input\\Team_7.csv\n",
      "   Team  Mon  Tue  Wed  Thr  Fri\n",
      "0     7    1    1    0    0    1\n",
      "input\\Team_8.csv\n",
      "   Team  Mon  Tue  Wed  Thr  Fri\n",
      "0     8    0    1    1    0    1\n",
      "input\\Team_9.csv\n",
      "   Team  Mon  Tue  Wed  Thr  Fri\n",
      "0     9    0    0    1    1    1\n"
     ]
    }
   ],
   "source": [
    "def findFiles(path): return glob.glob(path)\n",
    "\n",
    "referee_list = []\n",
    "team_list = []\n",
    "\n",
    "for filename in findFiles('input/referee_*.csv'):\n",
    "    print(filename)\n",
    "    df = pd.read_csv(filename)\n",
    "    df.columns = ['Referee' , 'Team' , 'Mon' , 'Tue' , 'Wed' , 'Thr' , 'Fri']\n",
    "    print(df)\n",
    "    referee_list.append(df)\n",
    "\n",
    "for filename in findFiles('input/Team_*.csv'):\n",
    "    print(filename)\n",
    "    df = pd.read_csv(filename)\n",
    "    df.columns = ['Team', 'Mon', 'Tue', 'Wed', 'Thr', 'Fri']\n",
    "    print(df)\n",
    "    team_list.append(df)"
   ]
  },
  {
   "cell_type": "code",
   "execution_count": 30,
   "metadata": {},
   "outputs": [],
   "source": [
    "referee = pd.concat([referee_list[0],referee_list[1],referee_list[2],referee_list[3],referee_list[4],referee_list[5],referee_list[6],referee_list[7],referee_list[8]],axis=0)\n",
    "team = pd.concat([team_list[i] for i in range(len(team_list))])"
   ]
  },
  {
   "cell_type": "code",
   "execution_count": 31,
   "metadata": {},
   "outputs": [],
   "source": [
    "team['Class'] = 0"
   ]
  },
  {
   "cell_type": "code",
   "execution_count": 32,
   "metadata": {},
   "outputs": [],
   "source": [
    "schedule = pd.DataFrame(columns = ['Mon' , 'Tue' , 'Wed' , 'Thr' , 'Fri'])\n",
    "team = team.sort_values(by ='Mon', ascending = False)"
   ]
  },
  {
   "cell_type": "code",
   "execution_count": 33,
   "metadata": {},
   "outputs": [
    {
     "name": "stdout",
     "output_type": "stream",
     "text": [
      "   Mon  Tue  Wed  Thr  Fri\n",
      "0   28  NaN  NaN  NaN  NaN\n",
      "1   20  NaN  NaN  NaN  NaN\n",
      "2   31  NaN  NaN  NaN  NaN\n",
      "3   30  NaN  NaN  NaN  NaN\n",
      "4   38  NaN  NaN  NaN  NaN\n",
      "5   29  NaN  NaN  NaN  NaN\n",
      "6   27  NaN  NaN  NaN  NaN\n",
      "7   26  NaN  NaN  NaN  NaN\n"
     ]
    }
   ],
   "source": [
    "k = 0\n",
    "l = []\n",
    "for index, row in team.iterrows():\n",
    "    if k < 8:\n",
    "        num = row['Team']\n",
    "        row['Class'] = 1\n",
    "        l.append(num)\n",
    "        k = k + 1\n",
    "schedule['Mon'] = l\n",
    "print(schedule)"
   ]
  },
  {
   "cell_type": "code",
   "execution_count": 34,
   "metadata": {},
   "outputs": [
    {
     "name": "stdout",
     "output_type": "stream",
     "text": [
      "   Mon  Tue  Wed  Thr  Fri\n",
      "0   28   12  NaN  NaN  NaN\n",
      "1   20   21  NaN  NaN  NaN\n",
      "2   31   36  NaN  NaN  NaN\n",
      "3   30    3  NaN  NaN  NaN\n",
      "4   38    8  NaN  NaN  NaN\n",
      "5   29   10  NaN  NaN  NaN\n",
      "6   27    5  NaN  NaN  NaN\n",
      "7   26   35  NaN  NaN  NaN\n"
     ]
    }
   ],
   "source": [
    "team = team.sort_values(by ='Tue', ascending = False)\n",
    "k = 0\n",
    "l = []\n",
    "for index, row in team.iterrows():\n",
    "    if k < 8 and row['Class'] == 0:\n",
    "        num = row['Team']\n",
    "        row['Class'] = 1\n",
    "        l.append(num)\n",
    "        k = k + 1\n",
    "schedule['Tue'] = l\n",
    "print(schedule)"
   ]
  },
  {
   "cell_type": "code",
   "execution_count": 35,
   "metadata": {},
   "outputs": [
    {
     "name": "stdout",
     "output_type": "stream",
     "text": [
      "   Mon  Tue  Wed  Thr  Fri\n",
      "0   28   12    9  NaN  NaN\n",
      "1   20   21   40  NaN  NaN\n",
      "2   31   36   33  NaN  NaN\n",
      "3   30    3   16  NaN  NaN\n",
      "4   38    8    1  NaN  NaN\n",
      "5   29   10   37  NaN  NaN\n",
      "6   27    5   39  NaN  NaN\n",
      "7   26   35   14  NaN  NaN\n"
     ]
    }
   ],
   "source": [
    "team = team.sort_values(by ='Wed', ascending = False)\n",
    "k = 0\n",
    "l = []\n",
    "for index, row in team.iterrows():\n",
    "    if k < 8 and row['Class'] == 0:\n",
    "        num = row['Team']\n",
    "        row['Class'] = 1\n",
    "        l.append(num)\n",
    "        k = k + 1\n",
    "schedule['Wed'] = l\n",
    "print(schedule)"
   ]
  },
  {
   "cell_type": "code",
   "execution_count": 36,
   "metadata": {},
   "outputs": [
    {
     "name": "stdout",
     "output_type": "stream",
     "text": [
      "   Mon  Tue  Wed  Thr  Fri\n",
      "0   28   12    9    6  NaN\n",
      "1   20   21   40   15  NaN\n",
      "2   31   36   33   34  NaN\n",
      "3   30    3   16   32  NaN\n",
      "4   38    8    1   11  NaN\n",
      "5   29   10   37   18  NaN\n",
      "6   27    5   39    4  NaN\n",
      "7   26   35   14   13  NaN\n"
     ]
    }
   ],
   "source": [
    "team = team.sort_values(by ='Thr', ascending = False)\n",
    "k = 0\n",
    "l = []\n",
    "for index, row in team.iterrows():\n",
    "    if k < 8 and row['Class'] == 0:\n",
    "        num = row['Team']\n",
    "        row['Class'] = 1\n",
    "        l.append(num)\n",
    "        k = k + 1\n",
    "schedule['Thr'] = l\n",
    "print(schedule)"
   ]
  },
  {
   "cell_type": "code",
   "execution_count": 37,
   "metadata": {},
   "outputs": [
    {
     "name": "stdout",
     "output_type": "stream",
     "text": [
      "   Mon  Tue  Wed  Thr  Fri\n",
      "0   28   12    9    6    7\n",
      "1   20   21   40   15    2\n",
      "2   31   36   33   34   22\n",
      "3   30    3   16   32   23\n",
      "4   38    8    1   11   19\n",
      "5   29   10   37   18   17\n",
      "6   27    5   39    4   24\n",
      "7   26   35   14   13   25\n"
     ]
    }
   ],
   "source": [
    "team = team.sort_values(by ='Fri', ascending = False)\n",
    "k = 0\n",
    "l = []\n",
    "for index, row in team.iterrows():\n",
    "    if k < 8 and row['Class'] == 0:\n",
    "        num = row['Team']\n",
    "        row['Class'] = 1\n",
    "        l.append(num)\n",
    "        k = k + 1\n",
    "if k != 7:\n",
    "    for i in range(7-k):\n",
    "        l.append('')\n",
    "schedule['Fri'] = l\n",
    "print(schedule)"
   ]
  },
  {
   "cell_type": "code",
   "execution_count": 38,
   "metadata": {},
   "outputs": [
    {
     "name": "stdout",
     "output_type": "stream",
     "text": [
      "     Referee  Team  Mon  Tue  Wed  Thr  Fri\n",
      "0        Amy     2    1    1    1    0    0\n",
      "0     Angela     5    0    1    1    1    0\n",
      "0       Tina     8    1    1    1    1    1\n",
      "0    Jessica    26    0    0    0    1    1\n",
      "0  Katherine    31    0    1    0    1    1\n",
      "0     Joanne    38    1    1    1    1    1\n",
      "0     Weibig    28    0    0    1    1    1\n",
      "0    Tiffany    18    1    1    1    0    1\n",
      "0      Catie    12    1    1    0    0    1\n"
     ]
    }
   ],
   "source": [
    "week=['Mon' , 'Tue' , 'Wed' , 'Thr' , 'Fri']\n",
    "for index, row in referee.iterrows():\n",
    "    for w in week:\n",
    "        if pd.Series([row['Team']]).isin(pd.Series(schedule[w])).any():\n",
    "            row[w]=0\n",
    "print(referee)"
   ]
  },
  {
   "cell_type": "code",
   "execution_count": 39,
   "metadata": {},
   "outputs": [],
   "source": [
    "schedule_referee = pd.DataFrame(columns = ['Mon' , 'Tue' , 'Wed' , 'Thr' , 'Fri'])"
   ]
  },
  {
   "cell_type": "code",
   "execution_count": 40,
   "metadata": {},
   "outputs": [],
   "source": [
    "referee['Class'] = 0"
   ]
  },
  {
   "cell_type": "code",
   "execution_count": 41,
   "metadata": {},
   "outputs": [
    {
     "name": "stdout",
     "output_type": "stream",
     "text": [
      "       Mon      Tue      Wed     Thr        Fri\n",
      "0      Amy      Amy      Amy    Tina       Tina\n",
      "1     Tina     Tina     Tina  Joanne     Joanne\n",
      "2   Joanne   Joanne   Joanne  Angela     Weibig\n",
      "3  Tiffany  Tiffany  Tiffany  Weibig  Katherine\n"
     ]
    }
   ],
   "source": [
    "for w in week:\n",
    "    referee = referee.sort_values(by =w, ascending = False)\n",
    "    #print(referee)\n",
    "    k = 0\n",
    "    l = []\n",
    "    for index, row in referee.iterrows():\n",
    "        if k < 4 and row['Class'] == 0 and row[w] == 1:\n",
    "            num = row['Referee']\n",
    "            row['Class'] = 1\n",
    "            l.append(num)\n",
    "            k = k + 1\n",
    "    if k != 4:\n",
    "        for i in range(4-k):\n",
    "            l.append('')\n",
    "    schedule_referee[w] = l\n",
    "print(schedule_referee)"
   ]
  },
  {
   "cell_type": "code",
   "execution_count": 42,
   "metadata": {},
   "outputs": [
    {
     "name": "stdout",
     "output_type": "stream",
     "text": [
      "   Mon  Tue  Wed  Thr  Fri\n",
      "0   28   12    9    6    7\n",
      "1   20   21   40   15    2\n",
      "2   31   36   33   34   22\n",
      "3   30    3   16   32   23\n",
      "4   38    8    1   11   19\n",
      "5   29   10   37   18   17\n",
      "6   27    5   39    4   24\n",
      "7   26   35   14   13   25\n"
     ]
    }
   ],
   "source": [
    "print(schedule)"
   ]
  },
  {
   "cell_type": "code",
   "execution_count": 43,
   "metadata": {},
   "outputs": [],
   "source": [
    "final_schedule = pd.DataFrame(columns = ['Mon' , 'Tue' , 'Wed' , 'Thr' , 'Fri'])"
   ]
  },
  {
   "cell_type": "code",
   "execution_count": 44,
   "metadata": {},
   "outputs": [
    {
     "name": "stdout",
     "output_type": "stream",
     "text": [
      "        Mon       Tue       Wed       Thr        Fri\n",
      "0  [28, 20]  [12, 21]   [9, 40]   [6, 15]     [7, 2]\n",
      "1       Amy       Amy       Amy      Tina       Tina\n",
      "2  [31, 30]   [36, 3]  [33, 16]  [34, 32]   [22, 23]\n",
      "3      Tina      Tina      Tina    Joanne     Joanne\n",
      "4  [38, 29]   [8, 10]   [1, 37]  [11, 18]   [19, 17]\n",
      "5    Joanne    Joanne    Joanne    Angela     Weibig\n",
      "6  [27, 26]   [5, 35]  [39, 14]   [4, 13]   [24, 25]\n",
      "7   Tiffany   Tiffany   Tiffany    Weibig  Katherine\n"
     ]
    }
   ],
   "source": [
    "for w in week:\n",
    "    l = []\n",
    "    l.append(schedule.loc[0, w])\n",
    "    l.append(schedule.loc[1, w])\n",
    "    final_schedule.loc[0,w] = l\n",
    "    final_schedule.loc[1,w] = schedule_referee.loc[0,w]\n",
    "    l2 = []\n",
    "    l2.append(schedule.loc[2, w])\n",
    "    l2.append(schedule.loc[3, w])\n",
    "    final_schedule.loc[2,w] = l2\n",
    "    final_schedule.loc[3,w] = schedule_referee.loc[1,w]\n",
    "    l3 = []\n",
    "    l3.append(schedule.loc[4, w])\n",
    "    l3.append(schedule.loc[5, w])\n",
    "    final_schedule.loc[4,w] = l3\n",
    "    final_schedule.loc[5,w] = schedule_referee.loc[2,w]\n",
    "    l4 = []\n",
    "    l4.append(schedule.loc[6, w])\n",
    "    l4.append(schedule.loc[7, w])\n",
    "    final_schedule.loc[6,w] = l4\n",
    "    final_schedule.loc[7,w] = schedule_referee.loc[3,w]\n",
    "print(final_schedule)"
   ]
  },
  {
   "cell_type": "code",
   "execution_count": 45,
   "metadata": {},
   "outputs": [],
   "source": [
    "new_final_schedule = final_schedule\n",
    "idx = 0\n",
    "new_col = ['court 4', 'referee', 'court 5', 'referee', 'court 6', 'referee', 'court 7', 'referee']  # can be a list, a Series, an array or a scalar   \n",
    "new_final_schedule.insert(loc=idx, column='', value=new_col)"
   ]
  },
  {
   "cell_type": "code",
   "execution_count": 46,
   "metadata": {},
   "outputs": [
    {
     "name": "stdout",
     "output_type": "stream",
     "text": [
      "                 Mon       Tue       Wed       Thr        Fri\n",
      "0  court 4  [28, 20]  [12, 21]   [9, 40]   [6, 15]     [7, 2]\n",
      "1  referee       Amy       Amy       Amy      Tina       Tina\n",
      "2  court 5  [31, 30]   [36, 3]  [33, 16]  [34, 32]   [22, 23]\n",
      "3  referee      Tina      Tina      Tina    Joanne     Joanne\n",
      "4  court 6  [38, 29]   [8, 10]   [1, 37]  [11, 18]   [19, 17]\n",
      "5  referee    Joanne    Joanne    Joanne    Angela     Weibig\n",
      "6  court 7  [27, 26]   [5, 35]  [39, 14]   [4, 13]   [24, 25]\n",
      "7  referee   Tiffany   Tiffany   Tiffany    Weibig  Katherine\n"
     ]
    }
   ],
   "source": [
    "print(new_final_schedule)"
   ]
  },
  {
   "cell_type": "code",
   "execution_count": 54,
   "metadata": {},
   "outputs": [],
   "source": [
    "import csv\n",
    "with open('output/final.csv', 'w', newline='') as csvfile:\n",
    "    writer = csv.writer(csvfile)\n",
    "    writer.writerow(['','Mon' , 'Tue' , 'Wed' , 'Thr' , 'Fri'])\n",
    "    for index, row in new_final_schedule.iterrows():\n",
    "        writer.writerow(row)"
   ]
  },
  {
   "cell_type": "code",
   "execution_count": null,
   "metadata": {},
   "outputs": [],
   "source": []
  }
 ],
 "metadata": {
  "kernelspec": {
   "display_name": "Python 3",
   "language": "python",
   "name": "python3"
  },
  "language_info": {
   "codemirror_mode": {
    "name": "ipython",
    "version": 3
   },
   "file_extension": ".py",
   "mimetype": "text/x-python",
   "name": "python",
   "nbconvert_exporter": "python",
   "pygments_lexer": "ipython3",
   "version": "3.7.3"
  }
 },
 "nbformat": 4,
 "nbformat_minor": 2
}
